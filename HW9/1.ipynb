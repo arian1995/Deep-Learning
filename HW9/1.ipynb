{
  "nbformat": 4,
  "nbformat_minor": 0,
  "metadata": {
    "accelerator": "GPU",
    "colab": {
      "name": "DL2_HW9.ipynb",
      "provenance": [],
      "collapsed_sections": []
    },
    "kernelspec": {
      "display_name": "Python 3",
      "language": "python",
      "name": "python3"
    },
    "language_info": {
      "codemirror_mode": {
        "name": "ipython",
        "version": 3
      },
      "file_extension": ".py",
      "mimetype": "text/x-python",
      "name": "python",
      "nbconvert_exporter": "python",
      "pygments_lexer": "ipython3",
      "version": "3.6.8"
    }
  },
  "cells": [
    {
      "cell_type": "code",
      "metadata": {
        "id": "zE4PxtbD5D_b"
      },
      "source": [
        "import cv2\n",
        "import numpy as np\n",
        "from matplotlib import pyplot as plt\n",
        "from tensorflow import keras\n",
        "import tensorflow as tf"
      ],
      "execution_count": null,
      "outputs": []
    },
    {
      "cell_type": "markdown",
      "metadata": {
        "id": "CMBpVnb18mF-"
      },
      "source": [
        "# prepare data"
      ]
    },
    {
      "cell_type": "code",
      "metadata": {
        "id": "tU76OeRp5Lkv",
        "colab": {
          "base_uri": "https://localhost:8080/"
        },
        "outputId": "5179ef24-7087-4d90-8397-efa3e8a23c7a"
      },
      "source": [
        "(x_train, y_train), (x_test, y_test) = keras.datasets.cifar10.load_data()"
      ],
      "execution_count": null,
      "outputs": [
        {
          "output_type": "stream",
          "text": [
            "Downloading data from https://www.cs.toronto.edu/~kriz/cifar-10-python.tar.gz\n",
            "170500096/170498071 [==============================] - 11s 0us/step\n"
          ],
          "name": "stdout"
        }
      ]
    },
    {
      "cell_type": "code",
      "metadata": {
        "id": "ownpLkZodprm"
      },
      "source": [
        "unlabeld_index = np.ones(y_train.shape, np.bool)\n",
        "\n",
        "N = 20\n",
        "for i in range(10):\n",
        "  idx = np.where(y_train == i)[0][:N]\n",
        "  unlabeld_index[idx] = 0"
      ],
      "execution_count": null,
      "outputs": []
    },
    {
      "cell_type": "code",
      "metadata": {
        "id": "aSWuuYDQex9C"
      },
      "source": [
        "x_unlabeld = x_train[np.where(unlabeld_index)[0], ...]\n",
        "\n",
        "x_train = x_train[np.where(~unlabeld_index)[0], ...]\n",
        "y_train = y_train[np.where(~unlabeld_index)[0], ...]"
      ],
      "execution_count": null,
      "outputs": []
    },
    {
      "cell_type": "code",
      "metadata": {
        "colab": {
          "base_uri": "https://localhost:8080/"
        },
        "id": "nrYTsjMJh_3b",
        "outputId": "ed95de63-1b55-4a9a-847f-45b1e9492ac2"
      },
      "source": [
        "# examples of categorical crossentropy\n",
        "cce = keras.losses.CategoricalCrossentropy()\n",
        "\n",
        "# a labeled data from the second class\n",
        "y_true = [[0, 1, 0, 0]]\n",
        "y_pred = [[0.05, 0.95, 0, 0]]\n",
        "print(cce(y_true, y_pred).numpy())\n",
        "\n",
        "# an ulabeled data\n",
        "y_true = [[0, 0, 0, 0]]\n",
        "y_pred = [[0.05, 0.95, 0, 0]]\n",
        "print(cce(y_true, y_pred).numpy())\n",
        "\n",
        "# another ulabeled data\n",
        "y_true = [[0, 0, 0, 0]]\n",
        "y_pred = [[0.1, 0.4, 0.3, 0.2]]\n",
        "print(cce(y_true, y_pred).numpy())"
      ],
      "execution_count": null,
      "outputs": [
        {
          "output_type": "stream",
          "text": [
            "0.051293306\n",
            "0.0\n",
            "0.0\n"
          ],
          "name": "stdout"
        }
      ]
    },
    {
      "cell_type": "code",
      "metadata": {
        "id": "jVpaYuH4nCUH"
      },
      "source": [
        "# Convert class vectors to binary class matrices.\n",
        "num_classes = 10\n",
        "y_train = keras.utils.to_categorical(y_train, num_classes)\n",
        "y_test = keras.utils.to_categorical(y_test, num_classes)"
      ],
      "execution_count": null,
      "outputs": []
    },
    {
      "cell_type": "code",
      "metadata": {
        "id": "DakBjw5vLmrN"
      },
      "source": [
        "# from keras.callbacks import EarlyStopping\n",
        "# es = EarlyStopping(monitor='val_accuracy', mode='max', verbose=1, patience=5)"
      ],
      "execution_count": null,
      "outputs": []
    },
    {
      "cell_type": "code",
      "metadata": {
        "colab": {
          "base_uri": "https://localhost:8080/"
        },
        "id": "S8cvjj5KnKfa",
        "outputId": "dea016e8-e5db-4aad-d96f-aea503e55101"
      },
      "source": [
        "# define model\n",
        "regularizer=keras.regularizers.l2(1e-3)\n",
        "input = keras.layers.Input(shape=x_train[0].shape)\n",
        "\n",
        "c1 = keras.layers.Conv2D(filters=128, kernel_size=(3, 3), activation='elu', kernel_regularizer=regularizer)(input)\n",
        "c2 = keras.layers.Conv2D(filters=128, kernel_size=(3, 3), activation='elu', kernel_regularizer=regularizer)(c1)\n",
        "m1 = keras.layers.MaxPooling2D()(c2)\n",
        "c3 = keras.layers.Conv2D(filters=128, kernel_size=(3, 3), activation='elu', kernel_regularizer=regularizer)(m1)\n",
        "c4 = keras.layers.Conv2D(filters=128, kernel_size=(3, 3), activation='elu', kernel_regularizer=regularizer)(c3)\n",
        "m2 = keras.layers.MaxPooling2D()(c4)\n",
        "f = keras.layers.Flatten(input_shape=x_train[0].shape)(m2)\n",
        "dropout = keras.layers.Dropout(0.5)(f)\n",
        "d1 = keras.layers.Dense(units=512, activation='elu', kernel_regularizer=regularizer)(dropout)\n",
        "output = keras.layers.Dense(units=num_classes, activation='softmax', kernel_regularizer=regularizer)(d1)\n",
        "\n",
        "model = keras.Model(input, output)\n",
        "model.summary()"
      ],
      "execution_count": null,
      "outputs": [
        {
          "output_type": "stream",
          "text": [
            "Model: \"model_59\"\n",
            "_________________________________________________________________\n",
            "Layer (type)                 Output Shape              Param #   \n",
            "=================================================================\n",
            "input_42 (InputLayer)        [(None, 32, 32, 3)]       0         \n",
            "_________________________________________________________________\n",
            "conv2d_164 (Conv2D)          (None, 30, 30, 128)       3584      \n",
            "_________________________________________________________________\n",
            "conv2d_165 (Conv2D)          (None, 28, 28, 128)       147584    \n",
            "_________________________________________________________________\n",
            "max_pooling2d_82 (MaxPooling (None, 14, 14, 128)       0         \n",
            "_________________________________________________________________\n",
            "conv2d_166 (Conv2D)          (None, 12, 12, 128)       147584    \n",
            "_________________________________________________________________\n",
            "conv2d_167 (Conv2D)          (None, 10, 10, 128)       147584    \n",
            "_________________________________________________________________\n",
            "max_pooling2d_83 (MaxPooling (None, 5, 5, 128)         0         \n",
            "_________________________________________________________________\n",
            "flatten_41 (Flatten)         (None, 3200)              0         \n",
            "_________________________________________________________________\n",
            "dropout_31 (Dropout)         (None, 3200)              0         \n",
            "_________________________________________________________________\n",
            "dense_100 (Dense)            (None, 512)               1638912   \n",
            "_________________________________________________________________\n",
            "dense_101 (Dense)            (None, 10)                5130      \n",
            "=================================================================\n",
            "Total params: 2,090,378\n",
            "Trainable params: 2,090,378\n",
            "Non-trainable params: 0\n",
            "_________________________________________________________________\n"
          ],
          "name": "stdout"
        }
      ]
    },
    {
      "cell_type": "code",
      "metadata": {
        "colab": {
          "base_uri": "https://localhost:8080/"
        },
        "id": "LuF1wx-Ynls_",
        "outputId": "e47f436a-696a-43e8-8d73-23a402ab15e3"
      },
      "source": [
        "# compile model\n",
        "\n",
        "optimizer = keras.optimizers.Adam()\n",
        "model.compile(loss='categorical_crossentropy', optimizer=optimizer, metrics=['accuracy'])\n",
        "\n",
        "# train model\n",
        "history = model.fit(x_train, y_train,\n",
        "                    batch_size=64,\n",
        "                    epochs=10,\n",
        "                    validation_data=(x_test, y_test),\n",
        "                    \n",
        "                    )"
      ],
      "execution_count": null,
      "outputs": [
        {
          "output_type": "stream",
          "text": [
            "Epoch 1/10\n",
            "4/4 [==============================] - 3s 748ms/step - loss: 32.2424 - accuracy: 0.0942 - val_loss: 23.5384 - val_accuracy: 0.1000\n",
            "Epoch 2/10\n",
            "4/4 [==============================] - 2s 636ms/step - loss: 22.2260 - accuracy: 0.1184 - val_loss: 15.5483 - val_accuracy: 0.1146\n",
            "Epoch 3/10\n",
            "4/4 [==============================] - 2s 632ms/step - loss: 13.9587 - accuracy: 0.1343 - val_loss: 12.1004 - val_accuracy: 0.1216\n",
            "Epoch 4/10\n",
            "4/4 [==============================] - 2s 639ms/step - loss: 11.0102 - accuracy: 0.0907 - val_loss: 4.8111 - val_accuracy: 0.1312\n",
            "Epoch 5/10\n",
            "4/4 [==============================] - 2s 631ms/step - loss: 5.0795 - accuracy: 0.1272 - val_loss: 4.4403 - val_accuracy: 0.1058\n",
            "Epoch 6/10\n",
            "4/4 [==============================] - 2s 638ms/step - loss: 4.4212 - accuracy: 0.1461 - val_loss: 3.9626 - val_accuracy: 0.1244\n",
            "Epoch 7/10\n",
            "4/4 [==============================] - 2s 630ms/step - loss: 4.1020 - accuracy: 0.1743 - val_loss: 3.8152 - val_accuracy: 0.1311\n",
            "Epoch 8/10\n",
            "4/4 [==============================] - 2s 633ms/step - loss: 3.9916 - accuracy: 0.1240 - val_loss: 3.7421 - val_accuracy: 0.1407\n",
            "Epoch 9/10\n",
            "4/4 [==============================] - 2s 632ms/step - loss: 3.8201 - accuracy: 0.1355 - val_loss: 3.5901 - val_accuracy: 0.1601\n",
            "Epoch 10/10\n",
            "4/4 [==============================] - 2s 635ms/step - loss: 3.5065 - accuracy: 0.2102 - val_loss: 3.6632 - val_accuracy: 0.1847\n"
          ],
          "name": "stdout"
        }
      ]
    },
    {
      "cell_type": "code",
      "metadata": {
        "id": "p2Cqlb_3zUiL"
      },
      "source": [
        "new_x_train = []\n",
        "new_y_train = []\n",
        "for i in range(len(x_unlabeld)):\n",
        "  new_x_train.append(x_unlabeld[i])\n",
        "  new_y_train.append(0)\n",
        "  rot90 = tf.image.rot90(x_unlabeld[i])\n",
        "  new_x_train.append(rot90)\n",
        "  new_y_train.append(1)\n",
        "  rot180 = tf.image.rot90(x_unlabeld[i], k=2)\n",
        "  new_x_train.append(rot180)\n",
        "  new_y_train.append(2)\n",
        "  rot270 = tf.image.rot90(x_unlabeld[i], k=3)\n",
        "  new_x_train.append(rot270)\n",
        "  new_y_train.append(3)"
      ],
      "execution_count": null,
      "outputs": []
    },
    {
      "cell_type": "code",
      "metadata": {
        "colab": {
          "base_uri": "https://localhost:8080/"
        },
        "id": "VmWEXOn_6xUT",
        "outputId": "42943624-d523-42b9-ef80-39b8905fabe7"
      },
      "source": [
        "new_x_train = np.asarray(new_x_train)\n",
        "new_y_train = np.asarray(new_y_train)\n",
        "print(new_x_train.shape)\n",
        "print(new_y_train.shape)"
      ],
      "execution_count": null,
      "outputs": [
        {
          "output_type": "stream",
          "text": [
            "(199200, 32, 32, 3)\n",
            "(199200,)\n"
          ],
          "name": "stdout"
        }
      ]
    },
    {
      "cell_type": "code",
      "metadata": {
        "id": "6REFdUPK3CyT"
      },
      "source": [
        "# Convert class vectors to binary class matrices.\n",
        "\n",
        "new_y_train = keras.utils.to_categorical(new_y_train, 4)\n"
      ],
      "execution_count": null,
      "outputs": []
    },
    {
      "cell_type": "code",
      "metadata": {
        "colab": {
          "base_uri": "https://localhost:8080/"
        },
        "id": "Ax4OP3oO3Cye",
        "outputId": "96079664-9a6c-4fd2-f05e-d8a240cb3e54"
      },
      "source": [
        "# define model\n",
        "regularizer=keras.regularizers.l2(1e-3)\n",
        "input = keras.layers.Input(shape=new_x_train[0].shape)\n",
        "\n",
        "c1 = keras.layers.Conv2D(filters=128, kernel_size=(3, 3), activation='elu', kernel_regularizer=regularizer)(input)\n",
        "c2 = keras.layers.Conv2D(filters=128, kernel_size=(3, 3), activation='elu', kernel_regularizer=regularizer)(c1)\n",
        "m1 = keras.layers.MaxPooling2D()(c2)\n",
        "c3 = keras.layers.Conv2D(filters=128, kernel_size=(3, 3), activation='elu', kernel_regularizer=regularizer)(m1)\n",
        "c4 = keras.layers.Conv2D(filters=128, kernel_size=(3, 3), activation='elu', kernel_regularizer=regularizer)(c3)\n",
        "m2 = keras.layers.MaxPooling2D()(c4)\n",
        "f = keras.layers.Flatten(input_shape=x_train[0].shape)(m2)\n",
        "dropout = keras.layers.Dropout(0.5)(f)\n",
        "d1 = keras.layers.Dense(units=512, activation='elu', kernel_regularizer=regularizer)(dropout)\n",
        "output = keras.layers.Dense(units=4, activation='softmax')(d1)\n",
        "\n",
        "rotation_model = keras.Model(input, output)\n",
        "rotation_model.summary()"
      ],
      "execution_count": null,
      "outputs": [
        {
          "output_type": "stream",
          "text": [
            "Model: \"model_60\"\n",
            "_________________________________________________________________\n",
            "Layer (type)                 Output Shape              Param #   \n",
            "=================================================================\n",
            "input_43 (InputLayer)        [(None, 32, 32, 3)]       0         \n",
            "_________________________________________________________________\n",
            "conv2d_168 (Conv2D)          (None, 30, 30, 128)       3584      \n",
            "_________________________________________________________________\n",
            "conv2d_169 (Conv2D)          (None, 28, 28, 128)       147584    \n",
            "_________________________________________________________________\n",
            "max_pooling2d_84 (MaxPooling (None, 14, 14, 128)       0         \n",
            "_________________________________________________________________\n",
            "conv2d_170 (Conv2D)          (None, 12, 12, 128)       147584    \n",
            "_________________________________________________________________\n",
            "conv2d_171 (Conv2D)          (None, 10, 10, 128)       147584    \n",
            "_________________________________________________________________\n",
            "max_pooling2d_85 (MaxPooling (None, 5, 5, 128)         0         \n",
            "_________________________________________________________________\n",
            "flatten_42 (Flatten)         (None, 3200)              0         \n",
            "_________________________________________________________________\n",
            "dropout_32 (Dropout)         (None, 3200)              0         \n",
            "_________________________________________________________________\n",
            "dense_102 (Dense)            (None, 512)               1638912   \n",
            "_________________________________________________________________\n",
            "dense_103 (Dense)            (None, 4)                 2052      \n",
            "=================================================================\n",
            "Total params: 2,087,300\n",
            "Trainable params: 2,087,300\n",
            "Non-trainable params: 0\n",
            "_________________________________________________________________\n"
          ],
          "name": "stdout"
        }
      ]
    },
    {
      "cell_type": "code",
      "metadata": {
        "colab": {
          "base_uri": "https://localhost:8080/"
        },
        "id": "f1Jv6nh33Cyi",
        "outputId": "6ba85205-3bdf-41bd-d4e9-59a906556bae"
      },
      "source": [
        " # compile model\n",
        "optimizer = keras.optimizers.Adam(learning_rate=1e-3)\n",
        "loss = keras.losses.CategoricalCrossentropy(from_logits=True)\n",
        "rotation_model.compile(loss=loss, optimizer=optimizer, metrics=['accuracy'])\n",
        "\n",
        "# train model\n",
        "history_rotation = rotation_model.fit(new_x_train, new_y_train,\n",
        "                    batch_size=256,\n",
        "                    epochs=10,\n",
        "                    shuffle=True,\n",
        "                    validation_split = 0.2,\n",
        "\n",
        "                    )"
      ],
      "execution_count": null,
      "outputs": [
        {
          "output_type": "stream",
          "text": [
            "Epoch 1/10\n",
            "623/623 [==============================] - 70s 111ms/step - loss: 5.5480 - accuracy: 0.3386 - val_loss: 1.9715 - val_accuracy: 0.5462\n",
            "Epoch 2/10\n",
            "623/623 [==============================] - 69s 110ms/step - loss: 1.8744 - accuracy: 0.5569 - val_loss: 1.5530 - val_accuracy: 0.6254\n",
            "Epoch 3/10\n",
            "623/623 [==============================] - 69s 110ms/step - loss: 1.4997 - accuracy: 0.6227 - val_loss: 1.2803 - val_accuracy: 0.6720\n",
            "Epoch 4/10\n",
            "623/623 [==============================] - 69s 110ms/step - loss: 1.2608 - accuracy: 0.6605 - val_loss: 1.0851 - val_accuracy: 0.7074\n",
            "Epoch 5/10\n",
            "594/623 [===========================>..] - ETA: 2s - loss: 1.1162 - accuracy: 0.6876"
          ],
          "name": "stdout"
        }
      ]
    },
    {
      "cell_type": "code",
      "metadata": {
        "id": "_NBFI3LZXADk"
      },
      "source": [
        "# rotation_model.summary()\n",
        "# rotation_model.layers.pop()\n",
        "# ratate_model.layers.pop()\n",
        "# rotation_model.summary()\n",
        "\n"
      ],
      "execution_count": null,
      "outputs": []
    },
    {
      "cell_type": "code",
      "metadata": {
        "id": "ZseJzF8gZeKY"
      },
      "source": [
        "output_clf = keras.layers.Dense(units=num_classes, activation='softmax')(rotation_model.layers[-2].output)\n",
        "clf_model = keras.Model(input, output_clf)\n",
        "clf_model.summary()"
      ],
      "execution_count": null,
      "outputs": []
    },
    {
      "cell_type": "code",
      "metadata": {
        "id": "QochCrJPx09U"
      },
      "source": [
        "# output_clf = keras.layers.Dense(units=num_classes, activation='softmax')(d1)\n",
        "\n",
        "# clf_model = keras.Model(input, output_clf)\n",
        "# clf_model.summary()"
      ],
      "execution_count": null,
      "outputs": []
    },
    {
      "cell_type": "code",
      "metadata": {
        "id": "Umwg-Crw-iOX"
      },
      "source": [
        " # compile model\n",
        "optimizer = keras.optimizers.Adam(learning_rate=1e-3)\n",
        "clf_model.compile(loss='categorical_crossentropy', optimizer=optimizer, metrics=['accuracy'])\n",
        "\n",
        "\n",
        "# train model\n",
        "history_clf = clf_model.fit(x_train, y_train,\n",
        "                    batch_size=64,\n",
        "                    epochs=10,\n",
        "                    validation_data=(x_test, y_test),\n",
        "                    \n",
        "                    )"
      ],
      "execution_count": null,
      "outputs": []
    },
    {
      "cell_type": "code",
      "metadata": {
        "id": "1Rq82OY9-8zm"
      },
      "source": [
        ""
      ],
      "execution_count": null,
      "outputs": []
    }
  ]
}