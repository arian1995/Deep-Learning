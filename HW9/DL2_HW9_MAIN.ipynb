{
  "nbformat": 4,
  "nbformat_minor": 0,
  "metadata": {
    "kernelspec": {
      "language": "python",
      "display_name": "Python 3",
      "name": "python3"
    },
    "language_info": {
      "name": "python",
      "version": "3.7.10",
      "mimetype": "text/x-python",
      "codemirror_mode": {
        "name": "ipython",
        "version": 3
      },
      "pygments_lexer": "ipython3",
      "nbconvert_exporter": "python",
      "file_extension": ".py"
    },
    "colab": {
      "name": "DL2_HW9.ipynb",
      "provenance": []
    }
  },
  "cells": [
    {
      "cell_type": "code",
      "metadata": {
        "id": "zE4PxtbD5D_b",
        "execution": {
          "iopub.status.busy": "2021-05-24T13:58:35.211609Z",
          "iopub.execute_input": "2021-05-24T13:58:35.212018Z",
          "iopub.status.idle": "2021-05-24T13:58:39.905866Z",
          "shell.execute_reply.started": "2021-05-24T13:58:35.211939Z",
          "shell.execute_reply": "2021-05-24T13:58:39.905006Z"
        },
        "trusted": true
      },
      "source": [
        "import cv2\n",
        "import numpy as np\n",
        "from matplotlib import pyplot as plt\n",
        "from tensorflow import keras\n",
        "import tensorflow as tf\n",
        "import random"
      ],
      "execution_count": null,
      "outputs": []
    },
    {
      "cell_type": "markdown",
      "metadata": {
        "id": "CMBpVnb18mF-"
      },
      "source": [
        "# prepare data"
      ]
    },
    {
      "cell_type": "code",
      "metadata": {
        "id": "tU76OeRp5Lkv",
        "execution": {
          "iopub.status.busy": "2021-05-24T13:58:39.907244Z",
          "iopub.execute_input": "2021-05-24T13:58:39.907557Z",
          "iopub.status.idle": "2021-05-24T13:58:47.082553Z",
          "shell.execute_reply.started": "2021-05-24T13:58:39.907522Z",
          "shell.execute_reply": "2021-05-24T13:58:47.081698Z"
        },
        "trusted": true,
        "outputId": "45842349-408c-488b-d93e-e401088f69d6"
      },
      "source": [
        "(x_train, y_train), (x_test, y_test) = keras.datasets.cifar10.load_data()"
      ],
      "execution_count": null,
      "outputs": [
        {
          "output_type": "stream",
          "text": [
            "Downloading data from https://www.cs.toronto.edu/~kriz/cifar-10-python.tar.gz\n",
            "170500096/170498071 [==============================] - 5s 0us/step\n"
          ],
          "name": "stdout"
        }
      ]
    },
    {
      "cell_type": "code",
      "metadata": {
        "id": "ownpLkZodprm",
        "execution": {
          "iopub.status.busy": "2021-05-24T13:58:47.084586Z",
          "iopub.execute_input": "2021-05-24T13:58:47.084989Z",
          "iopub.status.idle": "2021-05-24T13:58:47.094575Z",
          "shell.execute_reply.started": "2021-05-24T13:58:47.084961Z",
          "shell.execute_reply": "2021-05-24T13:58:47.093794Z"
        },
        "trusted": true
      },
      "source": [
        "unlabeld_index = np.ones(y_train.shape, np.bool)\n",
        "\n",
        "N = 20\n",
        "for i in range(10):\n",
        "  idx = np.where(y_train == i)[0][:N]\n",
        "  unlabeld_index[idx] = 0"
      ],
      "execution_count": null,
      "outputs": []
    },
    {
      "cell_type": "code",
      "metadata": {
        "id": "aSWuuYDQex9C",
        "execution": {
          "iopub.status.busy": "2021-05-24T13:58:47.096302Z",
          "iopub.execute_input": "2021-05-24T13:58:47.096732Z",
          "iopub.status.idle": "2021-05-24T13:58:47.460812Z",
          "shell.execute_reply.started": "2021-05-24T13:58:47.096676Z",
          "shell.execute_reply": "2021-05-24T13:58:47.459950Z"
        },
        "trusted": true
      },
      "source": [
        "x_unlabeld = x_train[np.where(unlabeld_index)[0], ...]\n",
        "\n",
        "x_train = x_train[np.where(~unlabeld_index)[0], ...]\n",
        "y_train = y_train[np.where(~unlabeld_index)[0], ...]"
      ],
      "execution_count": null,
      "outputs": []
    },
    {
      "cell_type": "code",
      "metadata": {
        "id": "nrYTsjMJh_3b",
        "execution": {
          "iopub.status.busy": "2021-05-24T13:58:47.462115Z",
          "iopub.execute_input": "2021-05-24T13:58:47.462456Z",
          "iopub.status.idle": "2021-05-24T13:58:49.506889Z",
          "shell.execute_reply.started": "2021-05-24T13:58:47.462421Z",
          "shell.execute_reply": "2021-05-24T13:58:49.505524Z"
        },
        "trusted": true,
        "outputId": "cd8cf3d0-4b80-4792-ae2c-a53159c3c44b"
      },
      "source": [
        "# examples of categorical crossentropy\n",
        "cce = keras.losses.CategoricalCrossentropy()\n",
        "\n",
        "# a labeled data from the second class\n",
        "y_true = [[0, 1, 0, 0]]\n",
        "y_pred = [[0.05, 0.95, 0, 0]]\n",
        "print(cce(y_true, y_pred).numpy())\n",
        "\n",
        "# an ulabeled data\n",
        "y_true = [[0, 0, 0, 0]]\n",
        "y_pred = [[0.05, 0.95, 0, 0]]\n",
        "print(cce(y_true, y_pred).numpy())\n",
        "\n",
        "# another ulabeled data\n",
        "y_true = [[0, 0, 0, 0]]\n",
        "y_pred = [[0.1, 0.4, 0.3, 0.2]]\n",
        "print(cce(y_true, y_pred).numpy())"
      ],
      "execution_count": null,
      "outputs": [
        {
          "output_type": "stream",
          "text": [
            "0.051293306\n",
            "0.0\n",
            "0.0\n"
          ],
          "name": "stdout"
        }
      ]
    },
    {
      "cell_type": "code",
      "metadata": {
        "id": "jVpaYuH4nCUH",
        "execution": {
          "iopub.status.busy": "2021-05-24T13:58:49.508138Z",
          "iopub.execute_input": "2021-05-24T13:58:49.508474Z",
          "iopub.status.idle": "2021-05-24T13:58:49.513831Z",
          "shell.execute_reply.started": "2021-05-24T13:58:49.508439Z",
          "shell.execute_reply": "2021-05-24T13:58:49.512787Z"
        },
        "trusted": true
      },
      "source": [
        "# Convert class vectors to binary class matrices.\n",
        "num_classes = 10\n",
        "y_train = keras.utils.to_categorical(y_train, num_classes)\n",
        "y_test = keras.utils.to_categorical(y_test, num_classes)"
      ],
      "execution_count": null,
      "outputs": []
    },
    {
      "cell_type": "code",
      "metadata": {
        "id": "DakBjw5vLmrN",
        "execution": {
          "iopub.status.busy": "2021-05-24T13:58:49.515410Z",
          "iopub.execute_input": "2021-05-24T13:58:49.515808Z",
          "iopub.status.idle": "2021-05-24T13:58:49.522497Z",
          "shell.execute_reply.started": "2021-05-24T13:58:49.515770Z",
          "shell.execute_reply": "2021-05-24T13:58:49.521755Z"
        },
        "trusted": true
      },
      "source": [
        "# from keras.callbacks import EarlyStopping\n",
        "# es = EarlyStopping(monitor='val_accuracy', mode='max', verbose=1, patience=5)"
      ],
      "execution_count": null,
      "outputs": []
    },
    {
      "cell_type": "code",
      "metadata": {
        "id": "S8cvjj5KnKfa",
        "execution": {
          "iopub.status.busy": "2021-05-24T13:58:49.526757Z",
          "iopub.execute_input": "2021-05-24T13:58:49.527240Z",
          "iopub.status.idle": "2021-05-24T13:58:49.629206Z",
          "shell.execute_reply.started": "2021-05-24T13:58:49.527200Z",
          "shell.execute_reply": "2021-05-24T13:58:49.628413Z"
        },
        "trusted": true,
        "outputId": "1e7eccb0-387a-43b1-8147-e100247bccb6"
      },
      "source": [
        "# define model\n",
        "regularizer=keras.regularizers.l2(1e-3)\n",
        "input = keras.layers.Input(shape=x_train[0].shape)\n",
        "\n",
        "c1 = keras.layers.Conv2D(filters=128, kernel_size=(3, 3), activation='relu', kernel_regularizer=regularizer)(input)\n",
        "c2 = keras.layers.Conv2D(filters=128, kernel_size=(3, 3), activation='relu', kernel_regularizer=regularizer)(c1)\n",
        "m1 = keras.layers.MaxPooling2D()(c2)\n",
        "c3 = keras.layers.Conv2D(filters=128, kernel_size=(3, 3), activation='relu', kernel_regularizer=regularizer)(m1)\n",
        "c4 = keras.layers.Conv2D(filters=128, kernel_size=(3, 3), activation='relu', kernel_regularizer=regularizer)(c3)\n",
        "m2 = keras.layers.MaxPooling2D()(c4)\n",
        "f = keras.layers.Flatten(input_shape=x_train[0].shape)(m2)\n",
        "dropout = keras.layers.Dropout(0.5)(f)\n",
        "d1 = keras.layers.Dense(units=512, activation='relu', kernel_regularizer=regularizer)(dropout)\n",
        "output = keras.layers.Dense(units=num_classes, activation='softmax', kernel_regularizer=regularizer)(d1)\n",
        "\n",
        "model = keras.Model(input, output)\n",
        "model.summary()"
      ],
      "execution_count": null,
      "outputs": [
        {
          "output_type": "stream",
          "text": [
            "Model: \"model\"\n",
            "_________________________________________________________________\n",
            "Layer (type)                 Output Shape              Param #   \n",
            "=================================================================\n",
            "input_1 (InputLayer)         [(None, 32, 32, 3)]       0         \n",
            "_________________________________________________________________\n",
            "conv2d (Conv2D)              (None, 30, 30, 128)       3584      \n",
            "_________________________________________________________________\n",
            "conv2d_1 (Conv2D)            (None, 28, 28, 128)       147584    \n",
            "_________________________________________________________________\n",
            "max_pooling2d (MaxPooling2D) (None, 14, 14, 128)       0         \n",
            "_________________________________________________________________\n",
            "conv2d_2 (Conv2D)            (None, 12, 12, 128)       147584    \n",
            "_________________________________________________________________\n",
            "conv2d_3 (Conv2D)            (None, 10, 10, 128)       147584    \n",
            "_________________________________________________________________\n",
            "max_pooling2d_1 (MaxPooling2 (None, 5, 5, 128)         0         \n",
            "_________________________________________________________________\n",
            "flatten (Flatten)            (None, 3200)              0         \n",
            "_________________________________________________________________\n",
            "dropout (Dropout)            (None, 3200)              0         \n",
            "_________________________________________________________________\n",
            "dense (Dense)                (None, 512)               1638912   \n",
            "_________________________________________________________________\n",
            "dense_1 (Dense)              (None, 10)                5130      \n",
            "=================================================================\n",
            "Total params: 2,090,378\n",
            "Trainable params: 2,090,378\n",
            "Non-trainable params: 0\n",
            "_________________________________________________________________\n"
          ],
          "name": "stdout"
        }
      ]
    },
    {
      "cell_type": "code",
      "metadata": {
        "id": "LuF1wx-Ynls_",
        "execution": {
          "iopub.status.busy": "2021-05-24T13:58:49.630853Z",
          "iopub.execute_input": "2021-05-24T13:58:49.631090Z",
          "iopub.status.idle": "2021-05-24T14:00:52.006073Z",
          "shell.execute_reply.started": "2021-05-24T13:58:49.631067Z",
          "shell.execute_reply": "2021-05-24T14:00:52.005237Z"
        },
        "trusted": true,
        "outputId": "3daf08d4-f775-49c6-b40f-7f1cd29e3441"
      },
      "source": [
        "# compile model\n",
        "\n",
        "optimizer = keras.optimizers.Adam()\n",
        "model.compile(loss='categorical_crossentropy', optimizer=optimizer, metrics=['accuracy'])\n",
        "\n",
        "# train model\n",
        "history = model.fit(x_train, y_train,\n",
        "                    batch_size=64,\n",
        "                    epochs=10,\n",
        "                    validation_data=(x_test, y_test),\n",
        "                    \n",
        "                    )"
      ],
      "execution_count": null,
      "outputs": [
        {
          "output_type": "stream",
          "text": [
            "Epoch 1/10\n",
            "4/4 [==============================] - 18s 4s/step - loss: 7.3380 - accuracy: 0.0826 - val_loss: 30.2032 - val_accuracy: 0.0967\n",
            "Epoch 2/10\n",
            "4/4 [==============================] - 12s 4s/step - loss: 18.9242 - accuracy: 0.1105 - val_loss: 5.4370 - val_accuracy: 0.1042\n",
            "Epoch 3/10\n",
            "4/4 [==============================] - 12s 4s/step - loss: 5.0539 - accuracy: 0.1313 - val_loss: 3.5110 - val_accuracy: 0.1295\n",
            "Epoch 4/10\n",
            "4/4 [==============================] - 12s 4s/step - loss: 3.4775 - accuracy: 0.1153 - val_loss: 3.3994 - val_accuracy: 0.1100\n",
            "Epoch 5/10\n",
            "4/4 [==============================] - 12s 4s/step - loss: 3.4043 - accuracy: 0.0847 - val_loss: 3.3277 - val_accuracy: 0.1198\n",
            "Epoch 6/10\n",
            "4/4 [==============================] - 12s 4s/step - loss: 3.3120 - accuracy: 0.1173 - val_loss: 3.3156 - val_accuracy: 0.1212\n",
            "Epoch 7/10\n",
            "4/4 [==============================] - 12s 4s/step - loss: 3.3036 - accuracy: 0.1374 - val_loss: 3.3079 - val_accuracy: 0.1355\n",
            "Epoch 8/10\n",
            "4/4 [==============================] - 12s 4s/step - loss: 3.2493 - accuracy: 0.1670 - val_loss: 3.6148 - val_accuracy: 0.0992\n",
            "Epoch 9/10\n",
            "4/4 [==============================] - 12s 4s/step - loss: 3.4979 - accuracy: 0.1361 - val_loss: 3.3112 - val_accuracy: 0.1315\n",
            "Epoch 10/10\n",
            "4/4 [==============================] - 12s 4s/step - loss: 3.2247 - accuracy: 0.1373 - val_loss: 3.2785 - val_accuracy: 0.1417\n"
          ],
          "name": "stdout"
        }
      ]
    },
    {
      "cell_type": "code",
      "metadata": {
        "id": "p2Cqlb_3zUiL",
        "execution": {
          "iopub.status.busy": "2021-05-24T14:00:52.007860Z",
          "iopub.execute_input": "2021-05-24T14:00:52.008208Z",
          "iopub.status.idle": "2021-05-24T14:03:52.584974Z",
          "shell.execute_reply.started": "2021-05-24T14:00:52.008160Z",
          "shell.execute_reply": "2021-05-24T14:03:52.584058Z"
        },
        "trusted": true
      },
      "source": [
        "new_x_train = []\n",
        "new_y_train = []\n",
        "for i in range(len(x_unlabeld)):\n",
        "  \n",
        "  new_x_train.append(x_unlabeld[i])\n",
        "  new_y_train.append(0)\n",
        "  rot90 = tf.image.rot90(x_unlabeld[i])\n",
        "  new_x_train.append(rot90)\n",
        "  new_y_train.append(1)\n",
        "  rot180 = tf.image.rot90(x_unlabeld[i], k=2)\n",
        "  new_x_train.append(rot180)\n",
        "  new_y_train.append(2)\n",
        "  rot270 = tf.image.rot90(x_unlabeld[i], k=3)\n",
        "  new_x_train.append(rot270)\n",
        "  new_y_train.append(3)"
      ],
      "execution_count": null,
      "outputs": []
    },
    {
      "cell_type": "code",
      "metadata": {
        "id": "VmWEXOn_6xUT",
        "execution": {
          "iopub.status.busy": "2021-05-24T14:03:52.586794Z",
          "iopub.execute_input": "2021-05-24T14:03:52.587267Z",
          "iopub.status.idle": "2021-05-24T14:04:03.878020Z",
          "shell.execute_reply.started": "2021-05-24T14:03:52.587230Z",
          "shell.execute_reply": "2021-05-24T14:04:03.877104Z"
        },
        "trusted": true,
        "outputId": "94cd226b-50fd-4eaa-dac7-d8d60377a9de"
      },
      "source": [
        "new_x_train = np.asarray(new_x_train)\n",
        "new_y_train = np.asarray(new_y_train)\n",
        "print(new_x_train.shape)\n",
        "print(new_y_train.shape)"
      ],
      "execution_count": null,
      "outputs": [
        {
          "output_type": "stream",
          "text": [
            "(199200, 32, 32, 3)\n",
            "(199200,)\n"
          ],
          "name": "stdout"
        }
      ]
    },
    {
      "cell_type": "code",
      "metadata": {
        "id": "6REFdUPK3CyT",
        "execution": {
          "iopub.status.busy": "2021-05-24T14:04:03.879252Z",
          "iopub.execute_input": "2021-05-24T14:04:03.879800Z",
          "iopub.status.idle": "2021-05-24T14:04:03.886578Z",
          "shell.execute_reply.started": "2021-05-24T14:04:03.879763Z",
          "shell.execute_reply": "2021-05-24T14:04:03.885723Z"
        },
        "trusted": true
      },
      "source": [
        "# Convert class vectors to binary class matrices.\n",
        "\n",
        "new_y_train = keras.utils.to_categorical(new_y_train, 4)\n"
      ],
      "execution_count": null,
      "outputs": []
    },
    {
      "cell_type": "code",
      "metadata": {
        "id": "Ax4OP3oO3Cye",
        "execution": {
          "iopub.status.busy": "2021-05-24T14:04:03.887822Z",
          "iopub.execute_input": "2021-05-24T14:04:03.888158Z",
          "iopub.status.idle": "2021-05-24T14:04:03.956610Z",
          "shell.execute_reply.started": "2021-05-24T14:04:03.888122Z",
          "shell.execute_reply": "2021-05-24T14:04:03.955727Z"
        },
        "trusted": true,
        "outputId": "c5ee6261-96c1-428f-e75b-6ee11d4f72b0"
      },
      "source": [
        "# define model\n",
        "regularizer=keras.regularizers.l2(1e-3)\n",
        "input = keras.layers.Input(shape=new_x_train[0].shape)\n",
        "\n",
        "c1 = keras.layers.Conv2D(filters=128, kernel_size=(3, 3), activation='elu', kernel_regularizer=regularizer)(input)\n",
        "c2 = keras.layers.Conv2D(filters=128, kernel_size=(3, 3), activation='elu', kernel_regularizer=regularizer)(c1)\n",
        "m1 = keras.layers.MaxPooling2D()(c2)\n",
        "c3 = keras.layers.Conv2D(filters=128, kernel_size=(3, 3), activation='elu', kernel_regularizer=regularizer)(m1)\n",
        "c4 = keras.layers.Conv2D(filters=128, kernel_size=(3, 3), activation='elu', kernel_regularizer=regularizer)(c3)\n",
        "m2 = keras.layers.MaxPooling2D()(c4)\n",
        "f = keras.layers.Flatten(input_shape=x_train[0].shape)(m2)\n",
        "dropout = keras.layers.Dropout(0.5)(f)\n",
        "d1 = keras.layers.Dense(units=512, activation='elu', kernel_regularizer=regularizer)(dropout)\n",
        "output = keras.layers.Dense(units=4, activation='softmax')(d1)\n",
        "\n",
        "rotation_model = keras.Model(input, output)\n",
        "rotation_model.summary()"
      ],
      "execution_count": null,
      "outputs": [
        {
          "output_type": "stream",
          "text": [
            "Model: \"model_1\"\n",
            "_________________________________________________________________\n",
            "Layer (type)                 Output Shape              Param #   \n",
            "=================================================================\n",
            "input_2 (InputLayer)         [(None, 32, 32, 3)]       0         \n",
            "_________________________________________________________________\n",
            "conv2d_4 (Conv2D)            (None, 30, 30, 128)       3584      \n",
            "_________________________________________________________________\n",
            "conv2d_5 (Conv2D)            (None, 28, 28, 128)       147584    \n",
            "_________________________________________________________________\n",
            "max_pooling2d_2 (MaxPooling2 (None, 14, 14, 128)       0         \n",
            "_________________________________________________________________\n",
            "conv2d_6 (Conv2D)            (None, 12, 12, 128)       147584    \n",
            "_________________________________________________________________\n",
            "conv2d_7 (Conv2D)            (None, 10, 10, 128)       147584    \n",
            "_________________________________________________________________\n",
            "max_pooling2d_3 (MaxPooling2 (None, 5, 5, 128)         0         \n",
            "_________________________________________________________________\n",
            "flatten_1 (Flatten)          (None, 3200)              0         \n",
            "_________________________________________________________________\n",
            "dropout_1 (Dropout)          (None, 3200)              0         \n",
            "_________________________________________________________________\n",
            "dense_2 (Dense)              (None, 512)               1638912   \n",
            "_________________________________________________________________\n",
            "dense_3 (Dense)              (None, 4)                 2052      \n",
            "=================================================================\n",
            "Total params: 2,087,300\n",
            "Trainable params: 2,087,300\n",
            "Non-trainable params: 0\n",
            "_________________________________________________________________\n"
          ],
          "name": "stdout"
        }
      ]
    },
    {
      "cell_type": "code",
      "metadata": {
        "id": "ncdOzf1E6NdY"
      },
      "source": [
        ""
      ],
      "execution_count": null,
      "outputs": []
    },
    {
      "cell_type": "code",
      "metadata": {
        "id": "f1Jv6nh33Cyi",
        "execution": {
          "iopub.status.busy": "2021-05-24T14:04:03.957910Z",
          "iopub.execute_input": "2021-05-24T14:04:03.958249Z",
          "iopub.status.idle": "2021-05-24T14:07:08.449083Z",
          "shell.execute_reply.started": "2021-05-24T14:04:03.958214Z",
          "shell.execute_reply": "2021-05-24T14:07:08.448254Z"
        },
        "trusted": true,
        "outputId": "27f91af6-575e-417e-8e76-3a20b91e4087"
      },
      "source": [
        " # compile model\n",
        "optimizer = keras.optimizers.Adam(learning_rate=1e-3)\n",
        "loss = keras.losses.CategoricalCrossentropy(from_logits=True)\n",
        "rotation_model.compile(loss=loss, optimizer=optimizer, metrics=['accuracy'])\n",
        "\n",
        "# train model\n",
        "history_rotation = rotation_model.fit(new_x_train, new_y_train,\n",
        "                    batch_size=256,\n",
        "                    epochs=10,\n",
        "                    shuffle=True,\n",
        "                    validation_split = 0.2,\n",
        "\n",
        "                    )"
      ],
      "execution_count": null,
      "outputs": [
        {
          "output_type": "stream",
          "text": [
            "Epoch 1/10\n",
            "623/623 [==============================] - 19s 30ms/step - loss: 6.2002 - accuracy: 0.3531 - val_loss: 1.9629 - val_accuracy: 0.5883\n",
            "Epoch 2/10\n",
            "623/623 [==============================] - 18s 29ms/step - loss: 1.8991 - accuracy: 0.5781 - val_loss: 1.5515 - val_accuracy: 0.6630\n",
            "Epoch 3/10\n",
            "623/623 [==============================] - 18s 29ms/step - loss: 1.5502 - accuracy: 0.6303 - val_loss: 1.3239 - val_accuracy: 0.6842\n",
            "Epoch 4/10\n",
            "623/623 [==============================] - 18s 29ms/step - loss: 1.3244 - accuracy: 0.6671 - val_loss: 1.1729 - val_accuracy: 0.6978\n",
            "Epoch 5/10\n",
            "623/623 [==============================] - 18s 29ms/step - loss: 1.1764 - accuracy: 0.6879 - val_loss: 1.0489 - val_accuracy: 0.7302\n",
            "Epoch 6/10\n",
            "623/623 [==============================] - 18s 29ms/step - loss: 1.0662 - accuracy: 0.7094 - val_loss: 0.9964 - val_accuracy: 0.7243\n",
            "Epoch 7/10\n",
            "623/623 [==============================] - 18s 30ms/step - loss: 0.9949 - accuracy: 0.7253 - val_loss: 0.9667 - val_accuracy: 0.7354\n",
            "Epoch 8/10\n",
            "623/623 [==============================] - 18s 29ms/step - loss: 0.9477 - accuracy: 0.7400 - val_loss: 0.8902 - val_accuracy: 0.7571\n",
            "Epoch 9/10\n",
            "623/623 [==============================] - 18s 29ms/step - loss: 0.9092 - accuracy: 0.7507 - val_loss: 0.8711 - val_accuracy: 0.7671\n",
            "Epoch 10/10\n",
            "623/623 [==============================] - 18s 29ms/step - loss: 0.8870 - accuracy: 0.7594 - val_loss: 0.8587 - val_accuracy: 0.7675\n"
          ],
          "name": "stdout"
        }
      ]
    },
    {
      "cell_type": "code",
      "metadata": {
        "id": "_NBFI3LZXADk",
        "execution": {
          "iopub.status.busy": "2021-05-24T14:07:08.450628Z",
          "iopub.execute_input": "2021-05-24T14:07:08.450997Z",
          "iopub.status.idle": "2021-05-24T14:07:08.456071Z",
          "shell.execute_reply.started": "2021-05-24T14:07:08.450958Z",
          "shell.execute_reply": "2021-05-24T14:07:08.455010Z"
        },
        "trusted": true
      },
      "source": [
        "# rotation_model.summary()\n",
        "# rotation_model.layers.pop()\n",
        "# ratate_model.layers.pop()\n",
        "# rotation_model.summary()\n",
        "\n"
      ],
      "execution_count": null,
      "outputs": []
    },
    {
      "cell_type": "code",
      "metadata": {
        "id": "ZseJzF8gZeKY",
        "execution": {
          "iopub.status.busy": "2021-05-24T14:07:08.457544Z",
          "iopub.execute_input": "2021-05-24T14:07:08.457930Z",
          "iopub.status.idle": "2021-05-24T14:07:08.486549Z",
          "shell.execute_reply.started": "2021-05-24T14:07:08.457890Z",
          "shell.execute_reply": "2021-05-24T14:07:08.485809Z"
        },
        "trusted": true,
        "outputId": "ecf39492-871e-4767-c4c9-be880e398662"
      },
      "source": [
        "output_clf = keras.layers.Dense(units=num_classes, activation='softmax')(rotation_model.layers[-2].output)\n",
        "clf_model = keras.Model(input, output_clf)\n",
        "clf_model.summary()"
      ],
      "execution_count": null,
      "outputs": [
        {
          "output_type": "stream",
          "text": [
            "Model: \"model_2\"\n",
            "_________________________________________________________________\n",
            "Layer (type)                 Output Shape              Param #   \n",
            "=================================================================\n",
            "input_2 (InputLayer)         [(None, 32, 32, 3)]       0         \n",
            "_________________________________________________________________\n",
            "conv2d_4 (Conv2D)            (None, 30, 30, 128)       3584      \n",
            "_________________________________________________________________\n",
            "conv2d_5 (Conv2D)            (None, 28, 28, 128)       147584    \n",
            "_________________________________________________________________\n",
            "max_pooling2d_2 (MaxPooling2 (None, 14, 14, 128)       0         \n",
            "_________________________________________________________________\n",
            "conv2d_6 (Conv2D)            (None, 12, 12, 128)       147584    \n",
            "_________________________________________________________________\n",
            "conv2d_7 (Conv2D)            (None, 10, 10, 128)       147584    \n",
            "_________________________________________________________________\n",
            "max_pooling2d_3 (MaxPooling2 (None, 5, 5, 128)         0         \n",
            "_________________________________________________________________\n",
            "flatten_1 (Flatten)          (None, 3200)              0         \n",
            "_________________________________________________________________\n",
            "dropout_1 (Dropout)          (None, 3200)              0         \n",
            "_________________________________________________________________\n",
            "dense_2 (Dense)              (None, 512)               1638912   \n",
            "_________________________________________________________________\n",
            "dense_4 (Dense)              (None, 10)                5130      \n",
            "=================================================================\n",
            "Total params: 2,090,378\n",
            "Trainable params: 2,090,378\n",
            "Non-trainable params: 0\n",
            "_________________________________________________________________\n"
          ],
          "name": "stdout"
        }
      ]
    },
    {
      "cell_type": "code",
      "metadata": {
        "id": "QochCrJPx09U",
        "execution": {
          "iopub.status.busy": "2021-05-24T14:07:08.489147Z",
          "iopub.execute_input": "2021-05-24T14:07:08.489391Z",
          "iopub.status.idle": "2021-05-24T14:07:08.494634Z",
          "shell.execute_reply.started": "2021-05-24T14:07:08.489365Z",
          "shell.execute_reply": "2021-05-24T14:07:08.493895Z"
        },
        "trusted": true
      },
      "source": [
        "# output_clf = keras.layers.Dense(units=num_classes, activation='softmax')(d1)\n",
        "\n",
        "# clf_model = keras.Model(input, output_clf)\n",
        "# clf_model.summary()"
      ],
      "execution_count": null,
      "outputs": []
    },
    {
      "cell_type": "code",
      "metadata": {
        "id": "Umwg-Crw-iOX",
        "execution": {
          "iopub.status.busy": "2021-05-24T14:07:08.497530Z",
          "iopub.execute_input": "2021-05-24T14:07:08.497842Z",
          "iopub.status.idle": "2021-05-24T14:07:16.846806Z",
          "shell.execute_reply.started": "2021-05-24T14:07:08.497817Z",
          "shell.execute_reply": "2021-05-24T14:07:16.845995Z"
        },
        "trusted": true,
        "outputId": "1dd283a6-395d-478a-d5e5-0795d060076a"
      },
      "source": [
        " # compile model\n",
        "optimizer = keras.optimizers.Adam(learning_rate=1e-3)\n",
        "clf_model.compile(loss='categorical_crossentropy', optimizer=optimizer, metrics=['accuracy'])\n",
        "\n",
        "\n",
        "# train model\n",
        "history_clf = clf_model.fit(x_train, y_train,\n",
        "                    batch_size=64,\n",
        "                    epochs=10,\n",
        "                    validation_data=(x_test, y_test),\n",
        "                    \n",
        "                    )"
      ],
      "execution_count": null,
      "outputs": [
        {
          "output_type": "stream",
          "text": [
            "Epoch 1/10\n",
            "4/4 [==============================] - 2s 333ms/step - loss: 4.0750 - accuracy: 0.1069 - val_loss: 3.0331 - val_accuracy: 0.2023\n",
            "Epoch 2/10\n",
            "4/4 [==============================] - 1s 259ms/step - loss: 2.3816 - accuracy: 0.2854 - val_loss: 2.3809 - val_accuracy: 0.2854\n",
            "Epoch 3/10\n",
            "4/4 [==============================] - 1s 275ms/step - loss: 1.7553 - accuracy: 0.4555 - val_loss: 2.3181 - val_accuracy: 0.3880\n",
            "Epoch 4/10\n",
            "4/4 [==============================] - 1s 241ms/step - loss: 0.9936 - accuracy: 0.7465 - val_loss: 2.3167 - val_accuracy: 0.3899\n",
            "Epoch 5/10\n",
            "4/4 [==============================] - 1s 237ms/step - loss: 0.7855 - accuracy: 0.8310 - val_loss: 2.9756 - val_accuracy: 0.3867\n",
            "Epoch 6/10\n",
            "4/4 [==============================] - 1s 236ms/step - loss: 0.6198 - accuracy: 0.8755 - val_loss: 2.7685 - val_accuracy: 0.4569\n",
            "Epoch 7/10\n",
            "4/4 [==============================] - 1s 235ms/step - loss: 0.3912 - accuracy: 0.9765 - val_loss: 3.3861 - val_accuracy: 0.4351\n",
            "Epoch 8/10\n",
            "4/4 [==============================] - 1s 235ms/step - loss: 0.4172 - accuracy: 0.9657 - val_loss: 3.5656 - val_accuracy: 0.4011\n",
            "Epoch 9/10\n",
            "4/4 [==============================] - 1s 236ms/step - loss: 0.4487 - accuracy: 0.9463 - val_loss: 3.2455 - val_accuracy: 0.4141\n",
            "Epoch 10/10\n",
            "4/4 [==============================] - 1s 236ms/step - loss: 0.4945 - accuracy: 0.9492 - val_loss: 3.3303 - val_accuracy: 0.4230\n"
          ],
          "name": "stdout"
        }
      ]
    },
    {
      "cell_type": "code",
      "metadata": {
        "id": "1Rq82OY9-8zm",
        "execution": {
          "iopub.status.busy": "2021-05-24T14:07:16.849813Z",
          "iopub.execute_input": "2021-05-24T14:07:16.850067Z",
          "iopub.status.idle": "2021-05-24T14:07:16.857100Z",
          "shell.execute_reply.started": "2021-05-24T14:07:16.850041Z",
          "shell.execute_reply": "2021-05-24T14:07:16.856193Z"
        },
        "trusted": true,
        "outputId": "252d49ca-0a7e-49e9-f121-dd9e3b8d7786"
      },
      "source": [
        "# zeros4 = np.zeros((4,), dtype=np.float32)\n",
        "# zeros10 = np.zeros((10,), dtype=np.float32)\n",
        "zeros10 = np.zeros((10,))\n",
        "zeros10"
      ],
      "execution_count": null,
      "outputs": [
        {
          "output_type": "execute_result",
          "data": {
            "text/plain": [
              "array([0., 0., 0., 0., 0., 0., 0., 0., 0., 0.])"
            ]
          },
          "metadata": {
            "tags": []
          },
          "execution_count": 19
        }
      ]
    },
    {
      "cell_type": "code",
      "metadata": {
        "id": "SY7eMrIFIfIs",
        "execution": {
          "iopub.status.busy": "2021-05-24T14:07:16.858576Z",
          "iopub.execute_input": "2021-05-24T14:07:16.859233Z",
          "iopub.status.idle": "2021-05-24T14:10:16.078405Z",
          "shell.execute_reply.started": "2021-05-24T14:07:16.859193Z",
          "shell.execute_reply": "2021-05-24T14:10:16.077588Z"
        },
        "trusted": true
      },
      "source": [
        "new_x_train = []\n",
        "new_y_train = []\n",
        "for i in range(len(x_unlabeld)):\n",
        "  # k = np.random.randint(4, size=1)[0]\n",
        "  # if k == 0:\n",
        "  new_x_train.append(x_unlabeld[i])\n",
        "  new_y_train.append(0)\n",
        "  # else:\n",
        "  rot = tf.image.rot90(x_unlabeld[i], k=1)\n",
        "  new_x_train.append(rot)\n",
        "  new_y_train.append(1)\n",
        "  rot180 = tf.image.rot90(x_unlabeld[i], k=2)\n",
        "  new_x_train.append(rot180)\n",
        "  new_y_train.append(2)\n",
        "  rot270 = tf.image.rot90(x_unlabeld[i], k=3)\n",
        "  new_x_train.append(rot270)\n",
        "  new_y_train.append(3)"
      ],
      "execution_count": null,
      "outputs": []
    },
    {
      "cell_type": "code",
      "metadata": {
        "id": "icXwdoCAm4ye",
        "execution": {
          "iopub.status.busy": "2021-05-24T14:10:16.079748Z",
          "iopub.execute_input": "2021-05-24T14:10:16.080070Z",
          "iopub.status.idle": "2021-05-24T14:10:16.934227Z",
          "shell.execute_reply.started": "2021-05-24T14:10:16.080036Z",
          "shell.execute_reply": "2021-05-24T14:10:16.933353Z"
        },
        "trusted": true
      },
      "source": [
        "temp = list(zip(new_x_train, new_y_train))\n",
        "random.shuffle(temp)\n",
        "new_x_train, new_y_train = zip(*temp)"
      ],
      "execution_count": null,
      "outputs": []
    },
    {
      "cell_type": "code",
      "metadata": {
        "id": "UR7nUdBDIvyd",
        "execution": {
          "iopub.status.busy": "2021-05-24T14:10:16.935482Z",
          "iopub.execute_input": "2021-05-24T14:10:16.935819Z",
          "iopub.status.idle": "2021-05-24T14:10:27.166424Z",
          "shell.execute_reply.started": "2021-05-24T14:10:16.935784Z",
          "shell.execute_reply": "2021-05-24T14:10:27.164990Z"
        },
        "trusted": true,
        "outputId": "c42a4e42-7426-4393-ae82-898962117e40"
      },
      "source": [
        "new_x_train = np.asarray(new_x_train)\n",
        "new_y_train = np.asarray(new_y_train)\n",
        "print(new_x_train.shape)\n",
        "print(new_y_train.shape)"
      ],
      "execution_count": null,
      "outputs": [
        {
          "output_type": "stream",
          "text": [
            "(199200, 32, 32, 3)\n",
            "(199200,)\n"
          ],
          "name": "stdout"
        }
      ]
    },
    {
      "cell_type": "code",
      "metadata": {
        "id": "h3a7pQdwIvyj",
        "execution": {
          "iopub.status.busy": "2021-05-24T14:10:27.169988Z",
          "iopub.execute_input": "2021-05-24T14:10:27.170235Z",
          "iopub.status.idle": "2021-05-24T14:10:27.179362Z",
          "shell.execute_reply.started": "2021-05-24T14:10:27.170210Z",
          "shell.execute_reply": "2021-05-24T14:10:27.178606Z"
        },
        "trusted": true
      },
      "source": [
        "# Convert class vectors to binary class matrices.\n",
        "\n",
        "new_y_train = keras.utils.to_categorical(new_y_train, 4)\n"
      ],
      "execution_count": null,
      "outputs": []
    },
    {
      "cell_type": "code",
      "metadata": {
        "id": "e_TrP-S8MtI9",
        "execution": {
          "iopub.status.busy": "2021-05-24T14:10:27.181119Z",
          "iopub.execute_input": "2021-05-24T14:10:27.181489Z",
          "iopub.status.idle": "2021-05-24T14:10:27.881354Z",
          "shell.execute_reply.started": "2021-05-24T14:10:27.181452Z",
          "shell.execute_reply": "2021-05-24T14:10:27.880494Z"
        },
        "trusted": true
      },
      "source": [
        "x_train_rotated = []\n",
        "y_train_rotated = []\n",
        "y_train_unrotated = []\n",
        "for i in range(len(x_train)):\n",
        "  # k = np.random.randint(4, size=1)[0]\n",
        "  # if k==0:\n",
        "  x_train_rotated.append(x_train[i])\n",
        "  y_train_rotated.append(0)\n",
        "  y_train_unrotated.append(y_train[i])\n",
        "# else:\n",
        "  rot = tf.image.rot90(x_train[i], k=1)\n",
        "  x_train_rotated.append(rot)\n",
        "  y_train_rotated.append(1)\n",
        "  y_train_unrotated.append(y_train[i])\n",
        "  rot180 = tf.image.rot90(x_train[i], k=2)\n",
        "  x_train_rotated.append(rot180)\n",
        "  y_train_rotated.append(2)\n",
        "  y_train_unrotated.append(y_train[i])\n",
        "  rot270 = tf.image.rot90(x_train[i], k=3)\n",
        "  x_train_rotated.append(rot270)\n",
        "  y_train_rotated.append(3)\n",
        "  y_train_unrotated.append(y_train[i])"
      ],
      "execution_count": null,
      "outputs": []
    },
    {
      "cell_type": "code",
      "metadata": {
        "id": "Qli2czK9nvQu",
        "execution": {
          "iopub.status.busy": "2021-05-24T14:10:27.882614Z",
          "iopub.execute_input": "2021-05-24T14:10:27.882964Z",
          "iopub.status.idle": "2021-05-24T14:10:28.589859Z",
          "shell.execute_reply.started": "2021-05-24T14:10:27.882930Z",
          "shell.execute_reply": "2021-05-24T14:10:28.588866Z"
        },
        "trusted": true
      },
      "source": [
        "temp = list(zip(x_train_rotated, y_train_rotated, y_train_unrotated))\n",
        "random.shuffle(temp)\n",
        "x_train_rotated, y_train_rotated, y_train_unrotated = zip(*temp)"
      ],
      "execution_count": null,
      "outputs": []
    },
    {
      "cell_type": "code",
      "metadata": {
        "id": "PrQEXIxmOFHm",
        "execution": {
          "iopub.status.busy": "2021-05-24T14:10:28.591247Z",
          "iopub.execute_input": "2021-05-24T14:10:28.591754Z",
          "iopub.status.idle": "2021-05-24T14:10:28.598204Z",
          "shell.execute_reply.started": "2021-05-24T14:10:28.591717Z",
          "shell.execute_reply": "2021-05-24T14:10:28.597443Z"
        },
        "trusted": true
      },
      "source": [
        "# Convert class vectors to binary class matrices.\n",
        "\n",
        "y_train_rotated = keras.utils.to_categorical(y_train_rotated, 4)\n"
      ],
      "execution_count": null,
      "outputs": []
    },
    {
      "cell_type": "code",
      "metadata": {
        "id": "kQpnTH4YOFG_",
        "execution": {
          "iopub.status.busy": "2021-05-24T14:10:28.599481Z",
          "iopub.execute_input": "2021-05-24T14:10:28.599976Z",
          "iopub.status.idle": "2021-05-24T14:10:28.650165Z",
          "shell.execute_reply.started": "2021-05-24T14:10:28.599939Z",
          "shell.execute_reply": "2021-05-24T14:10:28.649401Z"
        },
        "trusted": true,
        "outputId": "17f21b0d-bbdb-4719-8a02-e30ddc06b0f2"
      },
      "source": [
        "x_train_rotated = np.asarray(x_train_rotated)\n",
        "y_train_rotated = np.asarray(y_train_rotated)\n",
        "y_train_unrotated = np.asarray(y_train_unrotated)\n",
        "print(x_train_rotated.shape)\n",
        "print(y_train_rotated.shape)\n",
        "print(y_train_unrotated.shape)"
      ],
      "execution_count": null,
      "outputs": [
        {
          "output_type": "stream",
          "text": [
            "(800, 32, 32, 3)\n",
            "(800, 4)\n",
            "(800, 10)\n"
          ],
          "name": "stdout"
        }
      ]
    },
    {
      "cell_type": "code",
      "metadata": {
        "id": "F7yayLRCQX7g",
        "execution": {
          "iopub.status.busy": "2021-05-24T14:10:28.651276Z",
          "iopub.execute_input": "2021-05-24T14:10:28.651598Z",
          "iopub.status.idle": "2021-05-24T14:10:28.658841Z",
          "shell.execute_reply.started": "2021-05-24T14:10:28.651564Z",
          "shell.execute_reply": "2021-05-24T14:10:28.657907Z"
        },
        "trusted": true,
        "outputId": "0e59cb39-3387-43cd-9fb3-7100c0ec9f86"
      },
      "source": [
        "y_train_rotated[-1]"
      ],
      "execution_count": null,
      "outputs": [
        {
          "output_type": "execute_result",
          "data": {
            "text/plain": [
              "array([1., 0., 0., 0.], dtype=float32)"
            ]
          },
          "metadata": {
            "tags": []
          },
          "execution_count": 28
        }
      ]
    },
    {
      "cell_type": "code",
      "metadata": {
        "id": "KgZ1X6QlMNjl",
        "execution": {
          "iopub.status.busy": "2021-05-24T14:10:28.660240Z",
          "iopub.execute_input": "2021-05-24T14:10:28.660628Z",
          "iopub.status.idle": "2021-05-24T14:10:28.845469Z",
          "shell.execute_reply.started": "2021-05-24T14:10:28.660591Z",
          "shell.execute_reply": "2021-05-24T14:10:28.844600Z"
        },
        "trusted": true
      },
      "source": [
        "multi_x_train = []\n",
        "multi_y1_train = []\n",
        "multi_y2_train = []\n",
        "for i in range(len(new_x_train)):\n",
        "    multi_x_train.append(new_x_train[i])\n",
        "    multi_y1_train.append(zeros10)\n",
        "    multi_y2_train.append(new_y_train[i])\n",
        "    \n",
        "for i in range(len(x_train_rotated)):\n",
        "    multi_x_train.append(x_train_rotated[i])\n",
        "    multi_y1_train.append(y_train_unrotated[i])\n",
        "    multi_y2_train.append(y_train_rotated[i])"
      ],
      "execution_count": null,
      "outputs": []
    },
    {
      "cell_type": "code",
      "metadata": {
        "id": "3IkQoiftMNjl",
        "execution": {
          "iopub.status.busy": "2021-05-24T14:10:28.846780Z",
          "iopub.execute_input": "2021-05-24T14:10:28.847281Z",
          "iopub.status.idle": "2021-05-24T14:10:29.417879Z",
          "shell.execute_reply.started": "2021-05-24T14:10:28.847243Z",
          "shell.execute_reply": "2021-05-24T14:10:29.416966Z"
        },
        "trusted": true,
        "outputId": "4ca7ab86-1e06-437e-dfc2-91ad94310cc1"
      },
      "source": [
        "multi_x_train = np.asarray(multi_x_train)\n",
        "multi_y1_train = np.asarray(multi_y1_train, dtype=np.float32)\n",
        "multi_y2_train = np.asarray(multi_y2_train, dtype=np.float32)\n",
        "print(multi_x_train.shape)\n",
        "print(multi_y1_train.shape)\n",
        "print(multi_y2_train.shape)"
      ],
      "execution_count": null,
      "outputs": [
        {
          "output_type": "stream",
          "text": [
            "(200000, 32, 32, 3)\n",
            "(200000, 10)\n",
            "(200000, 4)\n"
          ],
          "name": "stdout"
        }
      ]
    },
    {
      "cell_type": "code",
      "metadata": {
        "id": "3mlm-0tbMNjm",
        "execution": {
          "iopub.status.busy": "2021-05-24T14:10:29.419151Z",
          "iopub.execute_input": "2021-05-24T14:10:29.419654Z",
          "iopub.status.idle": "2021-05-24T14:10:29.488637Z",
          "shell.execute_reply.started": "2021-05-24T14:10:29.419615Z",
          "shell.execute_reply": "2021-05-24T14:10:29.487859Z"
        },
        "trusted": true
      },
      "source": [
        "# define model\n",
        "regularizer=keras.regularizers.l2(1e-3)\n",
        "inputs = keras.layers.Input(shape=multi_x_train[0].shape)\n",
        " \n",
        "x = keras.layers.Conv2D(filters=128, kernel_size=(3, 3), activation='elu', kernel_regularizer=regularizer)(inputs)\n",
        "x = keras.layers.Conv2D(filters=128, kernel_size=(3, 3), activation='elu', kernel_regularizer=regularizer)(x)\n",
        "x = keras.layers.MaxPooling2D()(x)\n",
        "x = keras.layers.Conv2D(filters=128, kernel_size=(3, 3), activation='elu', kernel_regularizer=regularizer)(x)\n",
        "x = keras.layers.Conv2D(filters=128, kernel_size=(3, 3), activation='elu', kernel_regularizer=regularizer)(x)\n",
        "x = keras.layers.MaxPooling2D()(x)\n",
        "x = keras.layers.Flatten(input_shape=x_train[0].shape)(x)\n",
        "x = keras.layers.Dropout(0.5)(x)\n",
        "x = keras.layers.Dense(units=512, activation='elu', kernel_regularizer=regularizer)(x)\n",
        "output1 = keras.layers.Dense(units=10, activation='softmax', name='classification_output')(x)\n",
        "output2 = keras.layers.Dense(units=4, activation='softmax', name='rotation_output')(x)\n",
        " \n",
        "model = keras.Model(\n",
        "            inputs=inputs,\n",
        "            outputs=[output1, output2],\n",
        "            \n",
        "            )"
      ],
      "execution_count": null,
      "outputs": []
    },
    {
      "cell_type": "code",
      "metadata": {
        "id": "C98B5z6vMNjm",
        "execution": {
          "iopub.status.busy": "2021-05-24T14:10:29.489797Z",
          "iopub.execute_input": "2021-05-24T14:10:29.490109Z",
          "iopub.status.idle": "2021-05-24T14:10:29.946197Z",
          "shell.execute_reply.started": "2021-05-24T14:10:29.490075Z",
          "shell.execute_reply": "2021-05-24T14:10:29.945312Z"
        },
        "trusted": true,
        "outputId": "e218d36c-31a8-4ba3-b714-01131cc658d6"
      },
      "source": [
        "# from IPython.display import SVG\n",
        " \n",
        "# SVG(tf.keras.utils.model_to_dot(model,show_shapes= True, show_layer_names=True, dpi=60).create(prog='dot', format='svg'))\n",
        "keras.utils.plot_model(\n",
        "    model\n",
        ")"
      ],
      "execution_count": null,
      "outputs": [
        {
          "output_type": "execute_result",
          "data": {
            "image/png": "[encoded data removed]",
            "text/plain": [
              "<IPython.core.display.Image object>"
            ]
          },
          "metadata": {
            "tags": []
          },
          "execution_count": 32
        }
      ]
    },
    {
      "cell_type": "code",
      "metadata": {
        "id": "70WyVJokMNjm",
        "execution": {
          "iopub.status.busy": "2021-05-24T14:10:29.947781Z",
          "iopub.execute_input": "2021-05-24T14:10:29.948134Z",
          "iopub.status.idle": "2021-05-24T14:10:29.971242Z",
          "shell.execute_reply.started": "2021-05-24T14:10:29.948096Z",
          "shell.execute_reply": "2021-05-24T14:10:29.970416Z"
        },
        "trusted": true
      },
      "source": [
        "losses = {\n",
        "    \"classification_output\": \"categorical_crossentropy\",\n",
        "    \"rotation_output\": \"categorical_crossentropy\",\n",
        "}\n",
        "lossWeights = {\"classification_output\": 0.00001, \"rotation_output\": 1.0}\n",
        "init_lr = 1e-3\n",
        "# initial_learning_rate = 1e-3\n",
        "# lr_schedule = tf.keras.optimizers.schedules.ExponentialDecay(\n",
        "#     initial_learning_rate,\n",
        "#     decay_steps=10000,\n",
        "#     decay_rate=0.95,\n",
        "#     staircase=True)\n",
        "epochs = 10\n",
        "opt = keras.optimizers.Adam(learning_rate=init_lr)\n",
        "model.compile(optimizer=opt, loss=losses, loss_weights=lossWeights,\n",
        "    metrics=[tf.keras.metrics.CategoricalAccuracy()])"
      ],
      "execution_count": null,
      "outputs": []
    },
    {
      "cell_type": "code",
      "metadata": {
        "id": "jLX8FXf2MNjn",
        "execution": {
          "iopub.status.busy": "2021-05-24T14:10:29.972680Z",
          "iopub.execute_input": "2021-05-24T14:10:29.973096Z",
          "iopub.status.idle": "2021-05-24T14:10:29.985696Z",
          "shell.execute_reply.started": "2021-05-24T14:10:29.973051Z",
          "shell.execute_reply": "2021-05-24T14:10:29.984848Z"
        },
        "trusted": true
      },
      "source": [
        "zeros4 = np.zeros((4,), dtype=np.float32)\n",
        "y_test_rotate = [zeros4 for _ in range(len(y_test))]\n",
        "y_test_rotate = np.asarray(y_test_rotate)"
      ],
      "execution_count": null,
      "outputs": []
    },
    {
      "cell_type": "code",
      "metadata": {
        "id": "56Xlum46MNjn",
        "execution": {
          "iopub.status.busy": "2021-05-24T14:10:29.987086Z",
          "iopub.execute_input": "2021-05-24T14:10:29.987413Z",
          "iopub.status.idle": "2021-05-24T14:14:17.128789Z",
          "shell.execute_reply.started": "2021-05-24T14:10:29.987380Z",
          "shell.execute_reply": "2021-05-24T14:14:17.127812Z"
        },
        "trusted": true,
        "outputId": "f1ae0472-9364-4448-a48d-83715e94daae"
      },
      "source": [
        "H = model.fit(x=multi_x_train,\n",
        "    y={\"classification_output\": multi_y1_train, \"rotation_output\": multi_y2_train},\n",
        "    validation_data=(x_test,\n",
        "        {\"classification_output\": y_test, \"rotation_output\": y_test_rotate}),\n",
        "    # validation_split=0.2,\n",
        "    batch_size=256,\n",
        "    epochs=epochs,\n",
        "    # verbose=2      \n",
        "    )"
      ],
      "execution_count": null,
      "outputs": [
        {
          "output_type": "stream",
          "text": [
            "Epoch 1/10\n",
            "782/782 [==============================] - 23s 29ms/step - loss: 4.7741 - classification_output_loss: 0.0111 - rotation_output_loss: 3.5788 - classification_output_categorical_accuracy: 0.1065 - rotation_output_categorical_accuracy: 0.3513 - val_loss: 0.8331 - val_classification_output_loss: 2.4212 - val_rotation_output_loss: 0.0000e+00 - val_classification_output_categorical_accuracy: 0.1122 - val_rotation_output_categorical_accuracy: 0.5625\n",
            "Epoch 2/10\n",
            "782/782 [==============================] - 22s 28ms/step - loss: 1.7272 - classification_output_loss: 0.0105 - rotation_output_loss: 0.9834 - classification_output_categorical_accuracy: 0.2389 - rotation_output_categorical_accuracy: 0.5848 - val_loss: 0.5320 - val_classification_output_loss: 2.5520 - val_rotation_output_loss: 0.0000e+00 - val_classification_output_categorical_accuracy: 0.1195 - val_rotation_output_categorical_accuracy: 0.6117\n",
            "Epoch 3/10\n",
            "782/782 [==============================] - 22s 28ms/step - loss: 1.3501 - classification_output_loss: 0.0109 - rotation_output_loss: 0.8642 - classification_output_categorical_accuracy: 0.2310 - rotation_output_categorical_accuracy: 0.6464 - val_loss: 0.3757 - val_classification_output_loss: 2.5349 - val_rotation_output_loss: 0.0000e+00 - val_classification_output_categorical_accuracy: 0.1486 - val_rotation_output_categorical_accuracy: 0.4453\n",
            "Epoch 4/10\n",
            "782/782 [==============================] - 23s 29ms/step - loss: 1.1418 - classification_output_loss: 0.0118 - rotation_output_loss: 0.7870 - classification_output_categorical_accuracy: 0.2241 - rotation_output_categorical_accuracy: 0.6829 - val_loss: 0.3019 - val_classification_output_loss: 2.6215 - val_rotation_output_loss: 0.0000e+00 - val_classification_output_categorical_accuracy: 0.1245 - val_rotation_output_categorical_accuracy: 0.7372\n",
            "Epoch 5/10\n",
            "782/782 [==============================] - 23s 29ms/step - loss: 1.0113 - classification_output_loss: 0.0131 - rotation_output_loss: 0.7150 - classification_output_categorical_accuracy: 0.2156 - rotation_output_categorical_accuracy: 0.7133 - val_loss: 0.2705 - val_classification_output_loss: 2.7683 - val_rotation_output_loss: 0.0000e+00 - val_classification_output_categorical_accuracy: 0.1202 - val_rotation_output_categorical_accuracy: 0.7673\n",
            "Epoch 6/10\n",
            "782/782 [==============================] - 23s 29ms/step - loss: 0.9463 - classification_output_loss: 0.0132 - rotation_output_loss: 0.6756 - classification_output_categorical_accuracy: 0.2033 - rotation_output_categorical_accuracy: 0.7317 - val_loss: 0.2585 - val_classification_output_loss: 2.8319 - val_rotation_output_loss: 0.0000e+00 - val_classification_output_categorical_accuracy: 0.1223 - val_rotation_output_categorical_accuracy: 0.7852\n",
            "Epoch 7/10\n",
            "782/782 [==============================] - 23s 29ms/step - loss: 0.9062 - classification_output_loss: 0.0125 - rotation_output_loss: 0.6461 - classification_output_categorical_accuracy: 0.2103 - rotation_output_categorical_accuracy: 0.7452 - val_loss: 0.2509 - val_classification_output_loss: 2.9094 - val_rotation_output_loss: 0.0000e+00 - val_classification_output_categorical_accuracy: 0.1140 - val_rotation_output_categorical_accuracy: 0.7128\n",
            "Epoch 8/10\n",
            "782/782 [==============================] - 23s 29ms/step - loss: 0.8792 - classification_output_loss: 0.0109 - rotation_output_loss: 0.6233 - classification_output_categorical_accuracy: 0.2078 - rotation_output_categorical_accuracy: 0.7551 - val_loss: 0.2581 - val_classification_output_loss: 2.9810 - val_rotation_output_loss: 0.0000e+00 - val_classification_output_categorical_accuracy: 0.0990 - val_rotation_output_categorical_accuracy: 0.7951\n",
            "Epoch 9/10\n",
            "782/782 [==============================] - 23s 29ms/step - loss: 0.8650 - classification_output_loss: 0.0134 - rotation_output_loss: 0.6117 - classification_output_categorical_accuracy: 0.2040 - rotation_output_categorical_accuracy: 0.7598 - val_loss: 0.2497 - val_classification_output_loss: 3.0128 - val_rotation_output_loss: 0.0000e+00 - val_classification_output_categorical_accuracy: 0.1083 - val_rotation_output_categorical_accuracy: 0.6955\n",
            "Epoch 10/10\n",
            "782/782 [==============================] - 23s 29ms/step - loss: 0.8537 - classification_output_loss: 0.0131 - rotation_output_loss: 0.6025 - classification_output_categorical_accuracy: 0.1824 - rotation_output_categorical_accuracy: 0.7660 - val_loss: 0.2461 - val_classification_output_loss: 3.6523 - val_rotation_output_loss: 0.0000e+00 - val_classification_output_categorical_accuracy: 0.1124 - val_rotation_output_categorical_accuracy: 0.6760\n"
          ],
          "name": "stdout"
        }
      ]
    },
    {
      "cell_type": "code",
      "metadata": {
        "id": "SreDtrJwMNjn",
        "execution": {
          "iopub.status.busy": "2021-05-24T14:14:17.130540Z",
          "iopub.execute_input": "2021-05-24T14:14:17.130856Z",
          "iopub.status.idle": "2021-05-24T14:14:18.672974Z",
          "shell.execute_reply.started": "2021-05-24T14:14:17.130826Z",
          "shell.execute_reply": "2021-05-24T14:14:18.672187Z"
        },
        "trusted": true,
        "outputId": "0fc1651c-56ed-4af8-adc8-121a9aaac01b"
      },
      "source": [
        "model.evaluate(x=x_test,y={\"classification_output\":y_test, \"rotation_output\":y_test_rotate})"
      ],
      "execution_count": null,
      "outputs": [
        {
          "output_type": "stream",
          "text": [
            "313/313 [==============================] - 1s 4ms/step - loss: 0.2461 - classification_output_loss: 3.6523 - rotation_output_loss: 0.0000e+00 - classification_output_categorical_accuracy: 0.1125 - rotation_output_categorical_accuracy: 0.6760\n"
          ],
          "name": "stdout"
        },
        {
          "output_type": "execute_result",
          "data": {
            "text/plain": [
              "[0.24613630771636963,\n",
              " 3.652289867401123,\n",
              " 0.0,\n",
              " 0.11249999701976776,\n",
              " 0.6759999990463257]"
            ]
          },
          "metadata": {
            "tags": []
          },
          "execution_count": 36
        }
      ]
    },
    {
      "cell_type": "code",
      "metadata": {
        "id": "S3iishwB9wPz"
      },
      "source": [
        ""
      ],
      "execution_count": null,
      "outputs": []
    }
  ]
}