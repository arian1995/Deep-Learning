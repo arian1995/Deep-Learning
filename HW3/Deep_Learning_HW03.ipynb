{
  "nbformat": 4,
  "nbformat_minor": 0,
  "metadata": {
    "colab": {
      "name": "Deep-Learning-HW03.ipynb",
      "provenance": [],
      "collapsed_sections": []
    },
    "kernelspec": {
      "name": "python3",
      "display_name": "Python 3"
    }
  },
  "cells": [
    {
      "cell_type": "markdown",
      "metadata": {
        "id": "SPXTSeThdEWC"
      },
      "source": [
        "# Deep Learning 3rd Assignment - Part a"
      ]
    },
    {
      "cell_type": "markdown",
      "metadata": {
        "id": "7UPR9eNJdLZT"
      },
      "source": [
        "In this section you should implement Adam algorithm with numpy on the following objective function:\n",
        "\\begin{equation}\n",
        "x^2 + y^2\n",
        "\\end{equation}\n",
        "Try and analyze the performance of this algorithm with different values for beta1 and beta2."
      ]
    },
    {
      "cell_type": "code",
      "metadata": {
        "id": "PG5EKiOsdXSr",
        "colab": {
          "base_uri": "https://localhost:8080/"
        },
        "outputId": "5d5cd909-ccb2-4f3e-cc5f-5f5fc64350ac"
      },
      "source": [
        "### Write Your Code Here ###\n",
        "import numpy as np\n",
        "def objective_function(x, y):\n",
        "  return x**2 + y**2\n",
        "\n",
        "def compute_gradient(x, y):\n",
        "  return np.array([2.0 * x, 2.0 * y])\n",
        "\n",
        "def adam(learning_rate, number_of_iterations, beta1, beta2, var_limit):\n",
        "  var = var_limit[:, 0] + np.random.rand(len(var_limit)) * (var_limit[:, 1] - var_limit[:, 0])\n",
        "  objective_value = objective_function(var[0], var[1])\n",
        "  first_moment = [0 for el in range(var_limit.shape[0])]\n",
        "  second_moment = [0 for el in range(var_limit.shape[0])]\n",
        "\n",
        "  for t in range(1, number_of_iterations):\n",
        "    grad = compute_gradient(var[0], var[1])\n",
        "    for i in range(var.shape[0]):\n",
        "      first_moment[i] = beta1 * first_moment[i] + (1 - beta1) * grad[i]\n",
        "      second_moment[i] = beta2 * second_moment[i] + (1 - beta2) * grad[i] * grad[i]\n",
        "\n",
        "      first_unbias = first_moment[i] / (1.0 - beta1 ** t)\n",
        "      second_unbias = second_moment[i] / (1.0 - beta2 ** t)\n",
        "\n",
        "      var[i] -= learning_rate * first_unbias / (np.sqrt(second_unbias) + 1e-7)\n",
        "    objective_value = objective_function(var[0], var[1])\n",
        "      \n",
        "      \n",
        "\n",
        "  return var, objective_value\n",
        "\n",
        "learning_rate = 1e-1\n",
        "number_of_iterations = 100\n",
        "beta1 = 0.1\n",
        "beta2 = 0.999\n",
        "var_limit = np.array([[-1, 1], [-1, 1]])\n",
        "adam(learning_rate, number_of_iterations, beta1, beta2, var_limit)\n"
      ],
      "execution_count": null,
      "outputs": [
        {
          "output_type": "execute_result",
          "data": {
            "text/plain": [
              "(array([-1.09655876e-22,  3.86495570e-43]), 1.2024411173779359e-44)"
            ]
          },
          "metadata": {
            "tags": []
          },
          "execution_count": 63
        }
      ]
    },
    {
      "cell_type": "markdown",
      "metadata": {
        "id": "-crMo4Hde-Vg"
      },
      "source": [
        "Please write your observations and conclusion of running the algorithm with different values for beta1 and beta2."
      ]
    },
    {
      "cell_type": "markdown",
      "metadata": {
        "id": "AZEmFRvkfQw4"
      },
      "source": [
        "<font color='red'>if beta2 is less than and almost equal to 1 the result is better and if beta2 is almost equal to zero the result gets worse and about beta1 usually if beta1 is greater than but almost equal to 0 the result is better and as betal goes up the result gets worse.</font>"
      ]
    },
    {
      "cell_type": "markdown",
      "metadata": {
        "id": "d_aJl-g0lN8M"
      },
      "source": [
        "# Deep Learning 3rd Assignment - Part b\n",
        "\n",
        "---\n",
        "\n",
        "In this assignment we will be focusing on optimizing neural networks. As you may already know Keras API has a lot of built-in functions for optimization that you can use. However you may want to impelement your own custom optimization function or design one for your specific problem.\n",
        "\n",
        "The purpose of this notebook is to teach you to implement your own optimization function by using Keras API.\n"
      ]
    },
    {
      "cell_type": "code",
      "metadata": {
        "id": "egTG4I4b1XvR",
        "cellView": "form"
      },
      "source": [
        "#@title Import necessary modules\n",
        "\n",
        "import tensorflow as tf\n",
        "from tensorflow import keras\n",
        "\n",
        "from keras.optimizers import Optimizer\n",
        "from keras import backend as K\n",
        "\n",
        "from keras.datasets import mnist\n",
        "import matplotlib.pyplot as plt\n",
        "\n",
        "import numpy as np\n",
        "import os"
      ],
      "execution_count": null,
      "outputs": []
    },
    {
      "cell_type": "markdown",
      "metadata": {
        "id": "BUFk7FaA1L-9"
      },
      "source": [
        "To keep things rather simple and draw our full attention towards implementing custom optimization functions, we use a simple classification problem. The first step is to prepare our data."
      ]
    },
    {
      "cell_type": "markdown",
      "metadata": {
        "id": "C2n8keC22og1"
      },
      "source": [
        "## Data Preparation"
      ]
    },
    {
      "cell_type": "markdown",
      "metadata": {
        "id": "xeFbGgzx2uXv"
      },
      "source": [
        "Run the code below to load and plot the handwritten digit recognition dataset."
      ]
    },
    {
      "cell_type": "code",
      "metadata": {
        "colab": {
          "base_uri": "https://localhost:8080/",
          "height": 268
        },
        "id": "C1Q_ukmlktUN",
        "outputId": "19d10e6d-a73e-4851-a0d3-74f49df2398f"
      },
      "source": [
        "# Load the dataset\n",
        "(X_train, y_train), (X_test, y_test) = mnist.load_data()\n",
        "\n",
        "plt.subplot(221)\n",
        "plt.imshow(X_train[0], cmap=plt.get_cmap('gray'))\n",
        "plt.subplot(222)\n",
        "plt.imshow(X_train[1], cmap=plt.get_cmap('gray'))\n",
        "plt.subplot(223)\n",
        "plt.imshow(X_train[2], cmap=plt.get_cmap('gray'))\n",
        "plt.subplot(224)\n",
        "plt.imshow(X_train[3], cmap=plt.get_cmap('gray'))\n",
        "\n",
        "plt.show()"
      ],
      "execution_count": null,
      "outputs": [
        {
          "output_type": "display_data",
          "data": {
            "image/png": "[encoded data removed]",
            "text/plain": [
              "<Figure size 432x288 with 4 Axes>"
            ]
          },
          "metadata": {
            "tags": [],
            "needs_background": "light"
          }
        }
      ]
    },
    {
      "cell_type": "markdown",
      "metadata": {
        "id": "2TE7jDSnOH-i"
      },
      "source": [
        "Since we have not yet studied Convolutional Neural Networks (AKA CNN), we would like to solve this problem by using Multi-Layer Perceptrons. \n",
        "\n",
        "Note that our data is two-dimensional and since we are not using CNNs, we should reshape our data to make it compatible for MLPs. In the following code cell convert the input shape to a vector of pixels."
      ]
    },
    {
      "cell_type": "code",
      "metadata": {
        "id": "pypr9kl4Qfg8"
      },
      "source": [
        "# Reshape the test and training datasets \n",
        "\n",
        "X_train = X_train.reshape(X_train.shape[0],-1)\n",
        "X_test = X_test.reshape(X_test.shape[0],-1)\n",
        "\n",
        "# Normalizing data\n",
        "\n",
        "X_train = X_train / 255\n",
        "X_test = X_test / 255"
      ],
      "execution_count": null,
      "outputs": []
    },
    {
      "cell_type": "markdown",
      "metadata": {
        "id": "ARmIcHrRRRfi"
      },
      "source": [
        "Now since our problem is a multi-class classification problem we should label our data from 0 to 9 (there are 10 handwritten digits). We can simply do this using keras's built-in to_categorical() function."
      ]
    },
    {
      "cell_type": "code",
      "metadata": {
        "colab": {
          "base_uri": "https://localhost:8080/"
        },
        "id": "xTHiVaQER1cc",
        "outputId": "a4d010f4-4c6c-43db-9e84-ca8d39308791"
      },
      "source": [
        "y_train = keras.utils.to_categorical(y_train)\n",
        "y_test = keras.utils.to_categorical(y_test)\n",
        "num_classes = y_test.shape[1]\n",
        "\n",
        "print(num_classes)"
      ],
      "execution_count": null,
      "outputs": [
        {
          "output_type": "stream",
          "text": [
            "10\n"
          ],
          "name": "stdout"
        }
      ]
    },
    {
      "cell_type": "markdown",
      "metadata": {
        "id": "Mycw9cVoTlRt"
      },
      "source": [
        "## Defining Our Custom Optimizer"
      ]
    },
    {
      "cell_type": "markdown",
      "metadata": {
        "id": "LicS7nyYTrz_"
      },
      "source": [
        "This is the main part of this assignment because you are going to implement your custom optimizer. \n",
        "\n",
        "Below you should implement the SGD algorithm that you have learned in class. The class inherits from the Optimizer class in Keras. So all you need to do is to overwrite the functions specified below to have your own custom optimizer. \n",
        "\n",
        "In the constructor section you should define your hyperparameters and in resource_apply_dence function you write your main algorithm for optimizing.\n",
        "\n",
        "You can visit [here](https://www.tensorflow.org/api_docs/python/tf/keras/optimizers/Optimizer) to get further information on how to implement your own optimizer in tensorflow."
      ]
    },
    {
      "cell_type": "code",
      "metadata": {
        "id": "dWBwHr7G_Mn6"
      },
      "source": [
        "class CustomSGD(Optimizer):\n",
        "    def __init__(self, learning_rate=0.01, name=\"CustomSGD\", **kwargs):\n",
        "        \"\"\"you can set and store your hyper-parameters here\"\"\"\n",
        "        super().__init__(name, **kwargs)\n",
        "        \"\"\"Define learning rate hyper param here\"\"\"\n",
        "        self._set_hyper(\"learning_rate\", kwargs.get(\"lr\", learning_rate)) # handle lr=learning_rate\n",
        "        # self._is_first = True\n",
        "\n",
        "\n",
        "    @tf.function\n",
        "    def _resource_apply_dense(self, grad, var):\n",
        "        \"\"\" This is where you implement SGD algorithm with decayed learning rate \"\"\"\n",
        "        var_dtype = var.dtype.base_dtype\n",
        "        lr_t = self._decayed_lr(var_dtype) # handle learning rate decay\n",
        "\n",
        "        new_var = var - grad * lr_t\n",
        "        var.assign(new_var)\n",
        "    def _resource_apply_sparse(self, grad, var):\n",
        "        \"\"\" No need to do anything here \"\"\"\n",
        "        raise NotImplementedError\n",
        "\n",
        "    def get_config(self):\n",
        "        base_config = super().get_config()\n",
        "        return {\n",
        "            **base_config,\n",
        "            \"learning_rate\": self._serialize_hyperparameter(\"learning_rate\"),\n",
        "            \"decay\": self._serialize_hyperparameter(\"decay\"),\n",
        "        }"
      ],
      "execution_count": null,
      "outputs": []
    },
    {
      "cell_type": "markdown",
      "metadata": {
        "id": "iJPHYkn7S0Qi"
      },
      "source": [
        "## Creating Our Model"
      ]
    },
    {
      "cell_type": "markdown",
      "metadata": {
        "id": "jOXiK6WwS7Te"
      },
      "source": [
        "In this section we will create our model. You only need dense layers and don't forget to use your custom SGD. Also try changing the learning rate of the optimizer and analyze the effect of the learning rate on your model's performance."
      ]
    },
    {
      "cell_type": "code",
      "metadata": {
        "id": "ut2qNgjeTSru"
      },
      "source": [
        "def mlp_model():\n",
        "    # create model here\n",
        "    model = tf.keras.Sequential()\n",
        "    # model.add(tf.keras.layers.Dense(units=32, activation='relu'))\n",
        "    # model.add(tf.keras.layers.Dense(units=64, activation='relu'))\n",
        "    model.add(tf.keras.layers.Dense(units=128, activation='relu'))\n",
        "    model.add(tf.keras.layers.Dense(units=10, activation='softmax'))\n",
        "    \n",
        "    # Compile model here \n",
        "    optimizer = CustomSGD(learning_rate=0.5)\n",
        "    model.compile(loss='categorical_crossentropy', optimizer=optimizer, metrics=['accuracy'])\n",
        "\n",
        "    return model"
      ],
      "execution_count": null,
      "outputs": []
    },
    {
      "cell_type": "markdown",
      "metadata": {
        "id": "NFI65r3YZD3b"
      },
      "source": [
        "Now run the following code cell to train and evaluate our model."
      ]
    },
    {
      "cell_type": "code",
      "metadata": {
        "id": "FgzRoV3PalVz",
        "colab": {
          "base_uri": "https://localhost:8080/"
        },
        "outputId": "6dcce3e1-c307-426f-dc7e-fcf886eb96b8"
      },
      "source": [
        "model = mlp_model()\n",
        "# Fit the model\n",
        "model.fit(X_train, y_train, validation_data=(X_test, y_test), epochs=10, batch_size=200, verbose=2)\n",
        "# Final evaluation of the model\n",
        "scores = model.evaluate(X_test, y_test, verbose=0)\n",
        "print(\"Model Error: %.2f%%\" % (100-scores[1]*100))"
      ],
      "execution_count": null,
      "outputs": [
        {
          "output_type": "stream",
          "text": [
            "Epoch 1/10\n",
            "300/300 - 2s - loss: 0.3520 - accuracy: 0.8937 - val_loss: 0.1823 - val_accuracy: 0.9472\n",
            "Epoch 2/10\n",
            "300/300 - 1s - loss: 0.1551 - accuracy: 0.9553 - val_loss: 0.1293 - val_accuracy: 0.9613\n",
            "Epoch 3/10\n",
            "300/300 - 1s - loss: 0.1141 - accuracy: 0.9670 - val_loss: 0.1013 - val_accuracy: 0.9703\n",
            "Epoch 4/10\n",
            "300/300 - 1s - loss: 0.0907 - accuracy: 0.9738 - val_loss: 0.0961 - val_accuracy: 0.9705\n",
            "Epoch 5/10\n",
            "300/300 - 1s - loss: 0.0755 - accuracy: 0.9780 - val_loss: 0.0860 - val_accuracy: 0.9731\n",
            "Epoch 6/10\n",
            "300/300 - 1s - loss: 0.0632 - accuracy: 0.9822 - val_loss: 0.0863 - val_accuracy: 0.9729\n",
            "Epoch 7/10\n",
            "300/300 - 1s - loss: 0.0549 - accuracy: 0.9842 - val_loss: 0.0831 - val_accuracy: 0.9738\n",
            "Epoch 8/10\n",
            "300/300 - 1s - loss: 0.0485 - accuracy: 0.9860 - val_loss: 0.0752 - val_accuracy: 0.9748\n",
            "Epoch 9/10\n",
            "300/300 - 1s - loss: 0.0420 - accuracy: 0.9880 - val_loss: 0.0683 - val_accuracy: 0.9783\n",
            "Epoch 10/10\n",
            "300/300 - 1s - loss: 0.0369 - accuracy: 0.9898 - val_loss: 0.0707 - val_accuracy: 0.9769\n",
            "Model Error: 2.31%\n"
          ],
          "name": "stdout"
        }
      ]
    },
    {
      "cell_type": "code",
      "metadata": {
        "id": "i0H2zUdOxAqm"
      },
      "source": [
        ""
      ],
      "execution_count": null,
      "outputs": []
    }
  ]
}